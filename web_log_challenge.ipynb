{
 "cells": [
  {
   "cell_type": "code",
   "execution_count": 1,
   "metadata": {},
   "outputs": [],
   "source": [
    "rdd = sc.textFile('data/2015_07_22_mktplace_shop_web_log_sample.log')\n",
    "rdd = rdd.map(lambda x: x.split(\" \"))"
   ]
  },
  {
   "cell_type": "code",
   "execution_count": 2,
   "metadata": {
    "scrolled": true
   },
   "outputs": [],
   "source": [
    "from pyspark.sql import Row\n",
    "from pyspark.sql.types import *\n",
    "from pyspark.sql.functions import *\n",
    "import dateutil.parser\n",
    "\n",
    "#sort data by IP address then timestamp\n",
    "rdd_sorted = rdd.map(lambda x: ((x[2].split(':')[0]),Row(timestamp=dateutil.parser.parse(x[0]),url=x[12]))).sortBy(lambda x:(x[0],x[1].timestamp))"
   ]
  },
  {
   "cell_type": "code",
   "execution_count": 3,
   "metadata": {
    "scrolled": false
   },
   "outputs": [],
   "source": [
    "#group data by IP\n",
    "grouped = rdd_sorted.groupBy(lambda x: x[0]).map(lambda x:list(x[1]))"
   ]
  },
  {
   "cell_type": "code",
   "execution_count": 4,
   "metadata": {},
   "outputs": [
    {
     "data": {
      "text/plain": [
       "[[('1.186.108.29',\n",
       "   Row(timestamp=datetime.datetime(2015, 7, 22, 10, 38, 51, 826976, tzinfo=tzutc()), url='https://paytm.com:443/shop/p/asmi-collection-pvc-octopus-fish-in-sea-wall-stickers-CMPLXHOMASMI-COLLECTBOGA28128F109D763')),\n",
       "  ('1.186.108.29',\n",
       "   Row(timestamp=datetime.datetime(2015, 7, 22, 10, 38, 54, 755955, tzinfo=tzutc()), url='https://paytm.com:443/shop/cart')),\n",
       "  ('1.186.108.29',\n",
       "   Row(timestamp=datetime.datetime(2015, 7, 22, 10, 38, 56, 476670, tzinfo=tzutc()), url='https://paytm.com:443/papi/v1/promosearch/product/8138792/offers?parent_id=8138808'))],\n",
       " [('1.186.114.45',\n",
       "   Row(timestamp=datetime.datetime(2015, 7, 22, 18, 2, 59, 873175, tzinfo=tzutc()), url='https://paytm.com:443/')),\n",
       "  ('1.186.114.45',\n",
       "   Row(timestamp=datetime.datetime(2015, 7, 22, 18, 3, 5, 453198, tzinfo=tzutc()), url='https://paytm.com:443/shop/v1/frequentorders?channel=web&version=2')),\n",
       "  ('1.186.114.45',\n",
       "   Row(timestamp=datetime.datetime(2015, 7, 22, 18, 3, 5, 644265, tzinfo=tzutc()), url='https://paytm.com:443/shop/cart?channel=web&version=2')),\n",
       "  ('1.186.114.45',\n",
       "   Row(timestamp=datetime.datetime(2015, 7, 22, 18, 3, 14, 240742, tzinfo=tzutc()), url='https://paytm.com:443/papi/nps/merchantrating?merchant_id=35577&channel=web&version=2')),\n",
       "  ('1.186.114.45',\n",
       "   Row(timestamp=datetime.datetime(2015, 7, 22, 18, 3, 14, 244199, tzinfo=tzutc()), url='https://paytm.com:443/papi/v1/promosearch/product/16476164/offers?parent_id=16476775&price=1887&channel=web&version=2')),\n",
       "  ('1.186.114.45',\n",
       "   Row(timestamp=datetime.datetime(2015, 7, 22, 18, 3, 14, 406408, tzinfo=tzutc()), url='https://paytm.com:443/papi/rr/products/16476164/statistics?channel=web&version=2'))],\n",
       " [('1.186.145.111',\n",
       "   Row(timestamp=datetime.datetime(2015, 7, 22, 6, 57, 21, 109470, tzinfo=tzutc()), url='https://paytm.com:443/')),\n",
       "  ('1.186.145.111',\n",
       "   Row(timestamp=datetime.datetime(2015, 7, 22, 6, 57, 38, 558403, tzinfo=tzutc()), url='https://paytm.com:443/shop/cart?channel=web&version=2')),\n",
       "  ('1.186.145.111',\n",
       "   Row(timestamp=datetime.datetime(2015, 7, 22, 6, 57, 46, 625506, tzinfo=tzutc()), url='https://paytm.com:443/shop/login?isIframe=true&theme=mp-web')),\n",
       "  ('1.186.145.111',\n",
       "   Row(timestamp=datetime.datetime(2015, 7, 22, 6, 57, 54, 44491, tzinfo=tzutc()), url='https://paytm.com:443/favicon.ico')),\n",
       "  ('1.186.145.111',\n",
       "   Row(timestamp=datetime.datetime(2015, 7, 22, 6, 58, 30, 130996, tzinfo=tzutc()), url='https://paytm.com:443/shop/authresponse?code=2147c699-cf45-434e-8564-a56c230b8ec5&state=null')),\n",
       "  ('1.186.145.111',\n",
       "   Row(timestamp=datetime.datetime(2015, 7, 22, 6, 58, 30, 888158, tzinfo=tzutc()), url='https://paytm.com:443/shop/v1/frequentorders?channel=web&version=2')),\n",
       "  ('1.186.145.111',\n",
       "   Row(timestamp=datetime.datetime(2015, 7, 22, 6, 58, 31, 439352, tzinfo=tzutc()), url='https://paytm.com:443/shop/cart?channel=web&version=2'))],\n",
       " [('1.186.145.145',\n",
       "   Row(timestamp=datetime.datetime(2015, 7, 22, 16, 21, 3, 783564, tzinfo=tzutc()), url='https://paytm.com:443/papi/v1/promosearch/product/12768665/offers?parent_id=12768667')),\n",
       "  ('1.186.145.145',\n",
       "   Row(timestamp=datetime.datetime(2015, 7, 22, 16, 22, 44, 203293, tzinfo=tzutc()), url='https://paytm.com:443/papi/v1/promosearch/product/8888838/offers?parent_id=8888247'))],\n",
       " [('1.186.146.89',\n",
       "   Row(timestamp=datetime.datetime(2015, 7, 22, 10, 46, 11, 932533, tzinfo=tzutc()), url='https://paytm.com:443/')),\n",
       "  ('1.186.146.89',\n",
       "   Row(timestamp=datetime.datetime(2015, 7, 22, 10, 46, 20, 491368, tzinfo=tzutc()), url='https://paytm.com:443/shop/cart?channel=web&version=2')),\n",
       "  ('1.186.146.89',\n",
       "   Row(timestamp=datetime.datetime(2015, 7, 22, 10, 46, 39, 537872, tzinfo=tzutc()), url='https://paytm.com:443/favicon.ico')),\n",
       "  ('1.186.146.89',\n",
       "   Row(timestamp=datetime.datetime(2015, 7, 22, 10, 47, 6, 187366, tzinfo=tzutc()), url='https://paytm.com:443/papi/v1/expresscart/verify')),\n",
       "  ('1.186.146.89',\n",
       "   Row(timestamp=datetime.datetime(2015, 7, 22, 10, 47, 14, 161440, tzinfo=tzutc()), url='https://paytm.com:443/papi/v1/expresscart/verify')),\n",
       "  ('1.186.146.89',\n",
       "   Row(timestamp=datetime.datetime(2015, 7, 22, 10, 47, 19, 270670, tzinfo=tzutc()), url='https://paytm.com:443/shop/login?isIframe=true&theme=mp-web')),\n",
       "  ('1.186.146.89',\n",
       "   Row(timestamp=datetime.datetime(2015, 7, 22, 10, 48, 4, 472581, tzinfo=tzutc()), url='https://paytm.com:443/shop/authresponse?code=1b2ef409-5386-4622-8995-d204d657285d&state=null')),\n",
       "  ('1.186.146.89',\n",
       "   Row(timestamp=datetime.datetime(2015, 7, 22, 10, 48, 4, 946869, tzinfo=tzutc()), url='https://paytm.com:443/shop/v1/frequentorders?channel=web&version=2')),\n",
       "  ('1.186.146.89',\n",
       "   Row(timestamp=datetime.datetime(2015, 7, 22, 10, 48, 5, 83995, tzinfo=tzutc()), url='https://paytm.com:443/shop/cart?channel=web&version=2')),\n",
       "  ('1.186.146.89',\n",
       "   Row(timestamp=datetime.datetime(2015, 7, 22, 10, 48, 5, 109808, tzinfo=tzutc()), url='https://paytm.com:443/api/v1/expresscart/checkout?wallet=1'))]]"
      ]
     },
     "execution_count": 4,
     "metadata": {},
     "output_type": "execute_result"
    }
   ],
   "source": [
    "grouped.take(5)"
   ]
  },
  {
   "cell_type": "code",
   "execution_count": 5,
   "metadata": {},
   "outputs": [],
   "source": [
    "#session object for each IP\n",
    "class Session:\n",
    "    def __init__(self, IP, sessionNumUrls,sessionLengthInMinutes):\n",
    "        self.IP = IP\n",
    "        self.sessionNumUrls = sessionNumUrls\n",
    "        self.sessionLengthInMinutes = sessionLengthInMinutes"
   ]
  },
  {
   "cell_type": "code",
   "execution_count": 6,
   "metadata": {},
   "outputs": [],
   "source": [
    "#group timestamps and url within 15 mins into sessions\n",
    "def Sessionize(x):\n",
    "    size = len(x)\n",
    "    sessionUrls = [set([x[0][1].url])] #store unique urls for each session\n",
    "    sessions = [[x[0][1].timestamp]] #timestamps of each session\n",
    "    sessionLengthInMinutes = [] #length of each session\n",
    "    sessionNumUrls = [] #number of unique urls\n",
    "    \n",
    "    for i in range(1,size,1):\n",
    "        if (x[i][1].timestamp - sessions[-1][-1]).total_seconds()/60 <= 15: #two timestampe in same session\n",
    "            sessions[-1].append(x[i][1].timestamp)\n",
    "            sessionUrls[-1].add(x[i][1].url)\n",
    "        else:\n",
    "            sessions.append([x[i][1].timestamp]) #start a new session\n",
    "            sessionUrls.append(set([x[i][1].url]))\n",
    "\n",
    "    for session in sessions:\n",
    "        sessionLengthInMinutes.append((session[-1]-session[0]).total_seconds()/60)\n",
    "    \n",
    "    for sessionUrl in sessionUrls:\n",
    "        sessionNumUrls.append(len(sessionUrl))\n",
    "    \n",
    "    return Session(x[0][0], sessionNumUrls, sessionLengthInMinutes)"
   ]
  },
  {
   "cell_type": "code",
   "execution_count": 7,
   "metadata": {},
   "outputs": [],
   "source": [
    "#create sessions for each each IP address\n",
    "grouped_sessionized = grouped.map(lambda x:Sessionize(x))"
   ]
  },
  {
   "cell_type": "code",
   "execution_count": 8,
   "metadata": {
    "scrolled": false
   },
   "outputs": [
    {
     "data": {
      "text/plain": [
       "[('220.226.206.7',\n",
       "  [7, 5, 25, 13, 42, 15, 61, 105, 50, 92, 284, 30, 163],\n",
       "  [3.0329445333333336,\n",
       "   3.0448327333333336,\n",
       "   4.056144683333334,\n",
       "   4.024646466666667,\n",
       "   34.0800585,\n",
       "   4.8486105833333335,\n",
       "   4.8596510833333335,\n",
       "   4.173275283333333,\n",
       "   13.028803033333332,\n",
       "   4.2956905,\n",
       "   25.08101915,\n",
       "   4.992088083333333,\n",
       "   3.7483676833333335]),\n",
       " ('119.81.61.166',\n",
       "  [3334, 1100, 1671, 489, 1739, 8016, 2786, 3928, 3637, 2841],\n",
       "  [4.950189583333333,\n",
       "   4.9740852166666665,\n",
       "   4.986045,\n",
       "   4.2217356,\n",
       "   34.4808075,\n",
       "   14.613619533333333,\n",
       "   4.337334383333333,\n",
       "   4.9999253333333336,\n",
       "   4.986084966666667,\n",
       "   4.993532816666667]),\n",
       " ('54.250.253.236',\n",
       "  [1, 1, 1, 1, 1, 1, 1, 1, 1, 1],\n",
       "  [4.07740025,\n",
       "   1.5254125,\n",
       "   4.57557975,\n",
       "   3.0549327,\n",
       "   33.58166476666666,\n",
       "   12.720924966666667,\n",
       "   4.073001533333334,\n",
       "   3.0533205,\n",
       "   3.5601389833333332,\n",
       "   2.5412049666666667]),\n",
       " ('54.251.151.39',\n",
       "  [3, 3, 3, 4, 7, 3, 3, 4, 3, 2],\n",
       "  [4.946743883333334,\n",
       "   4.976086116666666,\n",
       "   4.996719733333333,\n",
       "   4.213974966666666,\n",
       "   34.45038280000001,\n",
       "   14.581265116666666,\n",
       "   4.317303016666667,\n",
       "   4.9391726333333335,\n",
       "   4.982523366666666,\n",
       "   4.875647783333333]),\n",
       " ('54.255.254.236',\n",
       "  [1, 1, 1, 1, 1, 1, 1, 1, 1, 1],\n",
       "  [0.5013352666666667,\n",
       "   3.514268266666667,\n",
       "   1.5087983166666668,\n",
       "   3.514465866666667,\n",
       "   31.63171875,\n",
       "   12.5473857,\n",
       "   1.0049996333333333,\n",
       "   4.520471850000001,\n",
       "   4.5163916833333335,\n",
       "   3.0130013666666664])]"
      ]
     },
     "execution_count": 8,
     "metadata": {},
     "output_type": "execute_result"
    }
   ],
   "source": [
    "#get number of unique urls and length of sessions for each IP, sorted by number of sessions\n",
    "grouped_sessionized.map(lambda x:(x.IP, x.sessionNumUrls, x.sessionLengthInMinutes)).sortBy(lambda x:len(x[2]),ascending=False).take(5)"
   ]
  },
  {
   "cell_type": "code",
   "execution_count": 9,
   "metadata": {},
   "outputs": [],
   "source": [
    "#use average to predict the session length of given url\n",
    "import numpy as np\n",
    "session_length_pred = grouped_sessionized.map(lambda x:(x.IP,np.mean(x.sessionLengthInMinutes)))"
   ]
  },
  {
   "cell_type": "code",
   "execution_count": 10,
   "metadata": {},
   "outputs": [
    {
     "data": {
      "text/plain": [
       "[('103.29.159.138', 34.42355186666667),\n",
       " ('125.16.218.194', 34.407923399999994),\n",
       " ('14.99.226.79', 34.381827933333334),\n",
       " ('122.169.141.4', 34.3359822),\n",
       " ('14.139.220.98', 34.305317716666664),\n",
       " ('117.205.158.11', 34.287053066666665),\n",
       " ('111.93.89.14', 34.249600699999995),\n",
       " ('182.71.63.42', 34.17429933333334),\n",
       " ('223.176.3.130', 34.128679416666664),\n",
       " ('183.82.103.131', 34.045396966666665)]"
      ]
     },
     "execution_count": 10,
     "metadata": {},
     "output_type": "execute_result"
    }
   ],
   "source": [
    "#get top 10 active users, ranked by average session length\n",
    "session_length_pred.sortBy(lambda x:x[1],ascending=False).take(10)"
   ]
  },
  {
   "cell_type": "code",
   "execution_count": 11,
   "metadata": {},
   "outputs": [],
   "source": [
    "totalSession, totalSessionLength = grouped_sessionized.map(lambda x:(len(x.sessionLengthInMinutes),np.sum(x.sessionLengthInMinutes))).reduce(lambda x1,x2:(x1[0]+x2[0],x1[1]+x2[1]))"
   ]
  },
  {
   "cell_type": "code",
   "execution_count": 12,
   "metadata": {},
   "outputs": [
    {
     "data": {
      "text/plain": [
       "1.678791824697907"
      ]
     },
     "execution_count": 12,
     "metadata": {},
     "output_type": "execute_result"
    }
   ],
   "source": [
    "totalSessionLength / totalSession #overall average session length"
   ]
  },
  {
   "cell_type": "code",
   "execution_count": 13,
   "metadata": {},
   "outputs": [],
   "source": [
    "totalSession, totalSessionUrls = grouped_sessionized.map(lambda x:(len(x.sessionNumUrls),np.sum(x.sessionNumUrls))).reduce(lambda x1,x2:(x1[0]+x2[0],x1[1]+x2[1]))"
   ]
  },
  {
   "cell_type": "code",
   "execution_count": 14,
   "metadata": {},
   "outputs": [
    {
     "data": {
      "text/plain": [
       "8.314305563074036"
      ]
     },
     "execution_count": 14,
     "metadata": {},
     "output_type": "execute_result"
    }
   ],
   "source": [
    "totalSessionUrls / float(totalSession) #overall number of unique urls per session"
   ]
  },
  {
   "cell_type": "code",
   "execution_count": 15,
   "metadata": {},
   "outputs": [],
   "source": [
    "#use average to predict number of unique urls of a given IP per session\n",
    "session_url_pred = grouped_sessionized.map(lambda x:(x.IP,np.mean(x.sessionNumUrls)))"
   ]
  },
  {
   "cell_type": "code",
   "execution_count": 16,
   "metadata": {},
   "outputs": [
    {
     "data": {
      "text/plain": [
       "[('52.74.219.71', 3211.9),\n",
       " ('119.81.61.166', 2954.1),\n",
       " ('106.51.132.54', 2609.0),\n",
       " ('106.186.23.95', 1375.8),\n",
       " ('54.169.0.163', 859.3333333333334),\n",
       " ('54.169.64.74', 825.0),\n",
       " ('54.169.20.106', 779.2857142857143),\n",
       " ('54.169.79.96', 747.3333333333334),\n",
       " ('54.169.164.205', 735.5714285714286),\n",
       " ('54.251.128.29', 702.5)]"
      ]
     },
     "execution_count": 16,
     "metadata": {},
     "output_type": "execute_result"
    }
   ],
   "source": [
    "session_url_pred.sortBy(lambda x:x[1],ascending=False).take(10)"
   ]
  },
  {
   "cell_type": "code",
   "execution_count": null,
   "metadata": {},
   "outputs": [],
   "source": []
  },
  {
   "cell_type": "code",
   "execution_count": 20,
   "metadata": {},
   "outputs": [],
   "source": [
    "###########################################################\n",
    "## Part 2\n",
    "###########################################################\n",
    "rdd = sc.textFile('data/2015_07_22_mktplace_shop_web_log_sample.log')\n",
    "rdd = rdd.map(lambda line: line.split(\" \"))\n",
    "logDF = rdd.map(lambda line: Row(timestamp=line[0], ipaddress=line[2].split(':')[0],url=line[12])).toDF()\n"
   ]
  },
  {
   "cell_type": "code",
   "execution_count": 21,
   "metadata": {},
   "outputs": [
    {
     "name": "stdout",
     "output_type": "stream",
     "text": [
      "+---------------+--------------------+--------------------+\n",
      "|      ipaddress|           timestamp|                 url|\n",
      "+---------------+--------------------+--------------------+\n",
      "|123.242.248.130|2015-07-22T09:00:...|https://paytm.com...|\n",
      "|  203.91.211.44|2015-07-22T09:00:...|https://paytm.com...|\n",
      "|    1.39.32.179|2015-07-22T09:00:...|https://paytm.com...|\n",
      "| 180.179.213.94|2015-07-22T09:00:...|https://paytm.com...|\n",
      "| 120.59.192.208|2015-07-22T09:00:...|https://paytm.com...|\n",
      "| 117.239.195.66|2015-07-22T09:00:...|https://paytm.com...|\n",
      "|  101.60.186.26|2015-07-22T09:00:...|https://paytm.com...|\n",
      "|   59.183.41.47|2015-07-22T09:00:...|https://paytm.com...|\n",
      "| 117.239.195.66|2015-07-22T09:00:...|https://paytm.com...|\n",
      "|  183.83.237.83|2015-07-22T09:00:...|https://paytm.com...|\n",
      "|  117.195.91.36|2015-07-22T09:00:...|https://paytm.com...|\n",
      "|122.180.245.251|2015-07-22T09:00:...|https://paytm.com...|\n",
      "| 117.198.215.20|2015-07-22T09:00:...|https://paytm.com...|\n",
      "| 223.176.154.91|2015-07-22T09:00:...|https://paytm.com...|\n",
      "|223.225.236.110|2015-07-22T09:00:...|https://paytm.com...|\n",
      "| 117.241.97.140|2015-07-22T09:00:...|https://paytm.com...|\n",
      "|117.205.247.140|2015-07-22T09:00:...|https://paytm.com...|\n",
      "|   14.102.53.58|2015-07-22T09:00:...|https://paytm.com...|\n",
      "|  203.200.99.67|2015-07-22T09:00:...|https://paytm.com...|\n",
      "|107.167.109.204|2015-07-22T09:00:...|https://paytm.com...|\n",
      "+---------------+--------------------+--------------------+\n",
      "only showing top 20 rows\n",
      "\n"
     ]
    }
   ],
   "source": [
    "logDF.show(20)"
   ]
  },
  {
   "cell_type": "code",
   "execution_count": 23,
   "metadata": {},
   "outputs": [],
   "source": [
    "logDF = logDF.withColumn('timestamp', logDF['timestamp'].cast(TimestampType()))\n",
    "loadperMinDF = logDF.select(window(\"timestamp\", \"60 seconds\").alias('timewindow'),'timestamp',\"ipaddress\").groupBy('timewindow').count().withColumnRenamed('count', 'HitperMin')"
   ]
  },
  {
   "cell_type": "code",
   "execution_count": 24,
   "metadata": {},
   "outputs": [],
   "source": [
    "loadperMinPandasDf = loadperMinDF.sort(\"timewindow.start\").toPandas()"
   ]
  },
  {
   "cell_type": "code",
   "execution_count": 25,
   "metadata": {},
   "outputs": [],
   "source": [
    "loadperMinPandasDf.index = [s[0] for s in loadperMinPandasDf['timewindow']]\n",
    "loadperMinPandasDf.drop(['timewindow'],1,inplace=True)\n",
    "loadperMinFilled = loadperMinPandasDf.asfreq('min').fillna(0)"
   ]
  },
  {
   "cell_type": "code",
   "execution_count": 27,
   "metadata": {},
   "outputs": [
    {
     "data": {
      "text/plain": [
       "<matplotlib.axes._subplots.AxesSubplot at 0x20de3750198>"
      ]
     },
     "execution_count": 27,
     "metadata": {},
     "output_type": "execute_result"
    },
    {
     "data": {
      "image/png": "[encoded data removed]",
      "text/plain": [
       "<Figure size 432x288 with 1 Axes>"
      ]
     },
     "metadata": {
      "needs_background": "light"
     },
     "output_type": "display_data"
    }
   ],
   "source": [
    "#plot hits per minute\n",
    "import matplotlib.pyplot as plt \n",
    "loadperMinFilled.plot()"
   ]
  },
  {
   "cell_type": "code",
   "execution_count": 33,
   "metadata": {},
   "outputs": [
    {
     "data": {
      "text/plain": [
       "<matplotlib.axes._subplots.AxesSubplot at 0x20de387fe80>"
      ]
     },
     "execution_count": 33,
     "metadata": {},
     "output_type": "execute_result"
    },
    {
     "data": {
      "image/png": "[encoded data removed]",
      "text/plain": [
       "<Figure size 432x288 with 1 Axes>"
      ]
     },
     "metadata": {
      "needs_background": "light"
     },
     "output_type": "display_data"
    }
   ],
   "source": [
    "#plot y(t) vs y(t+1)\n",
    "from pandas.plotting import lag_plot\n",
    "lag_plot(loadperMinFilled)"
   ]
  },
  {
   "cell_type": "code",
   "execution_count": 34,
   "metadata": {},
   "outputs": [
    {
     "data": {
      "text/plain": [
       "<matplotlib.axes._subplots.AxesSubplot at 0x20de38bd438>"
      ]
     },
     "execution_count": 34,
     "metadata": {},
     "output_type": "execute_result"
    },
    {
     "data": {
      "image/png": "[encoded data removed]",
      "text/plain": [
       "<Figure size 432x288 with 1 Axes>"
      ]
     },
     "metadata": {
      "needs_background": "light"
     },
     "output_type": "display_data"
    }
   ],
   "source": [
    "from pandas.plotting import autocorrelation_plot\n",
    "autocorrelation_plot(loadperMinFilled)"
   ]
  },
  {
   "cell_type": "code",
   "execution_count": 35,
   "metadata": {},
   "outputs": [
    {
     "data": {
      "text/plain": [
       "<matplotlib.axes._subplots.AxesSubplot at 0x20de36f2208>"
      ]
     },
     "execution_count": 35,
     "metadata": {},
     "output_type": "execute_result"
    },
    {
     "data": {
      "image/png": "[encoded data removed]",
      "text/plain": [
       "<Figure size 432x288 with 1 Axes>"
      ]
     },
     "metadata": {
      "needs_background": "light"
     },
     "output_type": "display_data"
    }
   ],
   "source": [
    "#plot y(t) - y(t-1)\n",
    "loadperMinFilled['HitperMin'].diff().dropna().plot()"
   ]
  },
  {
   "cell_type": "code",
   "execution_count": 36,
   "metadata": {},
   "outputs": [
    {
     "data": {
      "image/png": "[encoded data removed]",
      "text/plain": [
       "<Figure size 432x288 with 1 Axes>"
      ]
     },
     "metadata": {
      "needs_background": "light"
     },
     "output_type": "display_data"
    }
   ],
   "source": [
    "#taking sqrt transformation then differencing, try to make the time series stationary in order to use AR or MA model\n",
    "\n",
    "import numpy as np\n",
    "loadperMinFilled['#HitperMin_sqrt'] = np.sqrt(loadperMinFilled['HitperMin'])\n",
    "loadperMinFilled['#HitperMin_sqrt_diff'] = loadperMinFilled['#HitperMin_sqrt'].diff()\n",
    "loadperMinFilled['#HitperMin_sqrt_diff'].dropna().plot()\n",
    "plt.show()"
   ]
  },
  {
   "cell_type": "code",
   "execution_count": 46,
   "metadata": {},
   "outputs": [],
   "source": [
    "#the time series is not stationary after transformation and differencing, use y(t-1) to predict y(t)\n",
    "y_next_pred = loadperMinFilled['HitperMin'][1:]/60"
   ]
  },
  {
   "cell_type": "code",
   "execution_count": 47,
   "metadata": {},
   "outputs": [
    {
     "data": {
      "text/plain": [
       "2015-07-21 22:41:00    113.116667\n",
       "2015-07-21 22:42:00     93.100000\n",
       "2015-07-21 22:43:00     78.900000\n",
       "2015-07-21 22:44:00     78.000000\n",
       "2015-07-21 22:45:00      5.383333\n",
       "2015-07-21 22:46:00      0.000000\n",
       "2015-07-21 22:47:00      0.000000\n",
       "2015-07-21 22:48:00      0.000000\n",
       "2015-07-21 22:49:00      0.000000\n",
       "2015-07-21 22:50:00      0.000000\n",
       "2015-07-21 22:51:00      0.000000\n",
       "2015-07-21 22:52:00      0.000000\n",
       "2015-07-21 22:53:00      0.000000\n",
       "2015-07-21 22:54:00      0.000000\n",
       "2015-07-21 22:55:00      0.000000\n",
       "2015-07-21 22:56:00      0.000000\n",
       "2015-07-21 22:57:00      0.000000\n",
       "2015-07-21 22:58:00      0.000000\n",
       "2015-07-21 22:59:00      0.000000\n",
       "2015-07-21 23:00:00      0.000000\n",
       "2015-07-21 23:01:00      0.000000\n",
       "2015-07-21 23:02:00      0.000000\n",
       "2015-07-21 23:03:00      0.000000\n",
       "2015-07-21 23:04:00      0.000000\n",
       "2015-07-21 23:05:00      0.000000\n",
       "2015-07-21 23:06:00      0.000000\n",
       "2015-07-21 23:07:00      0.000000\n",
       "2015-07-21 23:08:00      0.000000\n",
       "2015-07-21 23:09:00      0.000000\n",
       "2015-07-21 23:10:00      0.000000\n",
       "                          ...    \n",
       "2015-07-22 16:41:00      0.000000\n",
       "2015-07-22 16:42:00      0.000000\n",
       "2015-07-22 16:43:00      0.000000\n",
       "2015-07-22 16:44:00      0.000000\n",
       "2015-07-22 16:45:00      0.000000\n",
       "2015-07-22 16:46:00      0.000000\n",
       "2015-07-22 16:47:00      0.000000\n",
       "2015-07-22 16:48:00      0.000000\n",
       "2015-07-22 16:49:00      0.000000\n",
       "2015-07-22 16:50:00      0.000000\n",
       "2015-07-22 16:51:00      0.000000\n",
       "2015-07-22 16:52:00      0.000000\n",
       "2015-07-22 16:53:00      0.000000\n",
       "2015-07-22 16:54:00      0.000000\n",
       "2015-07-22 16:55:00      0.000000\n",
       "2015-07-22 16:56:00      0.000000\n",
       "2015-07-22 16:57:00      0.000000\n",
       "2015-07-22 16:58:00      0.000000\n",
       "2015-07-22 16:59:00      0.000000\n",
       "2015-07-22 17:00:00      0.000000\n",
       "2015-07-22 17:01:00      0.000000\n",
       "2015-07-22 17:02:00      0.000000\n",
       "2015-07-22 17:03:00      0.000000\n",
       "2015-07-22 17:04:00      0.000000\n",
       "2015-07-22 17:05:00     67.250000\n",
       "2015-07-22 17:06:00    102.133333\n",
       "2015-07-22 17:07:00     55.000000\n",
       "2015-07-22 17:08:00     86.050000\n",
       "2015-07-22 17:09:00     84.350000\n",
       "2015-07-22 17:10:00     41.083333\n",
       "Freq: T, Name: HitperMin, Length: 1110, dtype: float64"
      ]
     },
     "execution_count": 47,
     "metadata": {},
     "output_type": "execute_result"
    }
   ],
   "source": [
    "y_next_pred"
   ]
  },
  {
   "cell_type": "code",
   "execution_count": null,
   "metadata": {},
   "outputs": [],
   "source": []
  }
 ],
 "metadata": {
  "kernelspec": {
   "display_name": "Python 3",
   "language": "python",
   "name": "python3"
  },
  "language_info": {
   "codemirror_mode": {
    "name": "ipython",
    "version": 3
   },
   "file_extension": ".py",
   "mimetype": "text/x-python",
   "name": "python",
   "nbconvert_exporter": "python",
   "pygments_lexer": "ipython3",
   "version": "3.7.0"
  }
 },
 "nbformat": 4,
 "nbformat_minor": 2
}
