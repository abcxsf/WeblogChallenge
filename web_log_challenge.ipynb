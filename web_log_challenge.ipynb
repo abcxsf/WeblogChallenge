{
 "cells": [
  {
   "cell_type": "code",
   "execution_count": 2,
   "metadata": {},
   "outputs": [
    {
     "data": {
      "text/html": [
       "\n",
       "        <div>\n",
       "            <p><b>SparkContext</b></p>\n",
       "\n",
       "            <p><a href=\"http://192.168.0.18:4040\">Spark UI</a></p>\n",
       "\n",
       "            <dl>\n",
       "              <dt>Version</dt>\n",
       "                <dd><code>v2.3.2</code></dd>\n",
       "              <dt>Master</dt>\n",
       "                <dd><code>local[*]</code></dd>\n",
       "              <dt>AppName</dt>\n",
       "                <dd><code>PySparkShell</code></dd>\n",
       "            </dl>\n",
       "        </div>\n",
       "        "
      ],
      "text/plain": [
       "<SparkContext master=local[*] appName=PySparkShell>"
      ]
     },
     "execution_count": 2,
     "metadata": {},
     "output_type": "execute_result"
    }
   ],
   "source": [
    "sc"
   ]
  },
  {
   "cell_type": "code",
   "execution_count": 1,
   "metadata": {},
   "outputs": [],
   "source": [
    "rdd = sc.textFile('2015_07_22_mktplace_shop_web_log_sample.log')\n",
    "rdd = rdd.map(lambda x: x.split(\" \"))"
   ]
  },
  {
   "cell_type": "code",
   "execution_count": 2,
   "metadata": {
    "scrolled": true
   },
   "outputs": [],
   "source": [
    "from pyspark.sql import Row\n",
    "from pyspark.sql.types import *\n",
    "from pyspark.sql.functions import *\n",
    "\n"
   ]
  },
  {
   "cell_type": "code",
   "execution_count": 3,
   "metadata": {},
   "outputs": [
    {
     "data": {
      "text/plain": [
       "[('1.186.101.79',\n",
       "  Row(timestamp=datetime.datetime(2015, 7, 22, 10, 45, 55, 881199, tzinfo=tzutc()), url='https://paytm.com:443/shop/wallet/balance?channel=web&version=2')),\n",
       " ('1.186.101.79',\n",
       "  Row(timestamp=datetime.datetime(2015, 7, 22, 10, 45, 55, 885488, tzinfo=tzutc()), url='https://paytm.com:443/shop/wallet/txnhistory?page_size=10&page_number=0&channel=web&version=2')),\n",
       " ('1.186.101.79',\n",
       "  Row(timestamp=datetime.datetime(2015, 7, 22, 10, 46, 27, 839734, tzinfo=tzutc()), url='https://paytm.com:443/shop/v1/frequentorders?channel=web&version=2')),\n",
       " ('1.186.101.79',\n",
       "  Row(timestamp=datetime.datetime(2015, 7, 22, 10, 46, 56, 591943, tzinfo=tzutc()), url='https://paytm.com:443/papi/v1/expresscart/verify')),\n",
       " ('1.186.101.79',\n",
       "  Row(timestamp=datetime.datetime(2015, 7, 22, 10, 47, 1, 782695, tzinfo=tzutc()), url='https://paytm.com:443/api/v1/expresscart/checkout?wallet=1')),\n",
       " ('1.186.101.79',\n",
       "  Row(timestamp=datetime.datetime(2015, 7, 22, 10, 47, 6, 893987, tzinfo=tzutc()), url='https://paytm.com:443/shop/summary/1116587591')),\n",
       " ('1.186.101.79',\n",
       "  Row(timestamp=datetime.datetime(2015, 7, 22, 10, 47, 7, 616869, tzinfo=tzutc()), url='https://paytm.com:443/shop/cart?channel=web&version=2')),\n",
       " ('1.186.101.79',\n",
       "  Row(timestamp=datetime.datetime(2015, 7, 22, 10, 47, 7, 844446, tzinfo=tzutc()), url='https://paytm.com:443/shop/orderdetail/1116587591?channel=web&version=2')),\n",
       " ('1.186.101.79',\n",
       "  Row(timestamp=datetime.datetime(2015, 7, 22, 10, 47, 18, 72370, tzinfo=tzutc()), url='https://paytm.com:443/shop/orderdetail/1116587591?channel=web&version=2')),\n",
       " ('1.186.101.79',\n",
       "  Row(timestamp=datetime.datetime(2015, 7, 22, 10, 47, 28, 84661, tzinfo=tzutc()), url='https://paytm.com:443/shop/orderdetail/1116587591?channel=web&version=2'))]"
      ]
     },
     "execution_count": 3,
     "metadata": {},
     "output_type": "execute_result"
    }
   ],
   "source": [
    "import dateutil.parser\n",
    "rdd = rdd.map(lambda x: ((x[2].split(':')[0]),Row(timestamp=dateutil.parser.parse(x[0]),url=x[12]))).sortBy(lambda x:(x[0],x[1].timestamp))\n",
    "rdd.take(10)"
   ]
  },
  {
   "cell_type": "code",
   "execution_count": 4,
   "metadata": {
    "scrolled": false
   },
   "outputs": [],
   "source": [
    "grouped = rdd.groupBy(lambda x: x[0]).map(lambda x:list(x[1]))"
   ]
  },
  {
   "cell_type": "code",
   "execution_count": 5,
   "metadata": {},
   "outputs": [
    {
     "data": {
      "text/plain": [
       "[[('1.186.108.29',\n",
       "   Row(timestamp=datetime.datetime(2015, 7, 22, 10, 38, 51, 826976, tzinfo=tzutc()), url='https://paytm.com:443/shop/p/asmi-collection-pvc-octopus-fish-in-sea-wall-stickers-CMPLXHOMASMI-COLLECTBOGA28128F109D763')),\n",
       "  ('1.186.108.29',\n",
       "   Row(timestamp=datetime.datetime(2015, 7, 22, 10, 38, 54, 755955, tzinfo=tzutc()), url='https://paytm.com:443/shop/cart')),\n",
       "  ('1.186.108.29',\n",
       "   Row(timestamp=datetime.datetime(2015, 7, 22, 10, 38, 56, 476670, tzinfo=tzutc()), url='https://paytm.com:443/papi/v1/promosearch/product/8138792/offers?parent_id=8138808'))],\n",
       " [('1.186.114.45',\n",
       "   Row(timestamp=datetime.datetime(2015, 7, 22, 18, 2, 59, 873175, tzinfo=tzutc()), url='https://paytm.com:443/')),\n",
       "  ('1.186.114.45',\n",
       "   Row(timestamp=datetime.datetime(2015, 7, 22, 18, 3, 5, 453198, tzinfo=tzutc()), url='https://paytm.com:443/shop/v1/frequentorders?channel=web&version=2')),\n",
       "  ('1.186.114.45',\n",
       "   Row(timestamp=datetime.datetime(2015, 7, 22, 18, 3, 5, 644265, tzinfo=tzutc()), url='https://paytm.com:443/shop/cart?channel=web&version=2')),\n",
       "  ('1.186.114.45',\n",
       "   Row(timestamp=datetime.datetime(2015, 7, 22, 18, 3, 14, 240742, tzinfo=tzutc()), url='https://paytm.com:443/papi/nps/merchantrating?merchant_id=35577&channel=web&version=2')),\n",
       "  ('1.186.114.45',\n",
       "   Row(timestamp=datetime.datetime(2015, 7, 22, 18, 3, 14, 244199, tzinfo=tzutc()), url='https://paytm.com:443/papi/v1/promosearch/product/16476164/offers?parent_id=16476775&price=1887&channel=web&version=2')),\n",
       "  ('1.186.114.45',\n",
       "   Row(timestamp=datetime.datetime(2015, 7, 22, 18, 3, 14, 406408, tzinfo=tzutc()), url='https://paytm.com:443/papi/rr/products/16476164/statistics?channel=web&version=2'))],\n",
       " [('1.186.145.111',\n",
       "   Row(timestamp=datetime.datetime(2015, 7, 22, 6, 57, 21, 109470, tzinfo=tzutc()), url='https://paytm.com:443/')),\n",
       "  ('1.186.145.111',\n",
       "   Row(timestamp=datetime.datetime(2015, 7, 22, 6, 57, 38, 558403, tzinfo=tzutc()), url='https://paytm.com:443/shop/cart?channel=web&version=2')),\n",
       "  ('1.186.145.111',\n",
       "   Row(timestamp=datetime.datetime(2015, 7, 22, 6, 57, 46, 625506, tzinfo=tzutc()), url='https://paytm.com:443/shop/login?isIframe=true&theme=mp-web')),\n",
       "  ('1.186.145.111',\n",
       "   Row(timestamp=datetime.datetime(2015, 7, 22, 6, 57, 54, 44491, tzinfo=tzutc()), url='https://paytm.com:443/favicon.ico')),\n",
       "  ('1.186.145.111',\n",
       "   Row(timestamp=datetime.datetime(2015, 7, 22, 6, 58, 30, 130996, tzinfo=tzutc()), url='https://paytm.com:443/shop/authresponse?code=2147c699-cf45-434e-8564-a56c230b8ec5&state=null')),\n",
       "  ('1.186.145.111',\n",
       "   Row(timestamp=datetime.datetime(2015, 7, 22, 6, 58, 30, 888158, tzinfo=tzutc()), url='https://paytm.com:443/shop/v1/frequentorders?channel=web&version=2')),\n",
       "  ('1.186.145.111',\n",
       "   Row(timestamp=datetime.datetime(2015, 7, 22, 6, 58, 31, 439352, tzinfo=tzutc()), url='https://paytm.com:443/shop/cart?channel=web&version=2'))],\n",
       " [('1.186.145.145',\n",
       "   Row(timestamp=datetime.datetime(2015, 7, 22, 16, 21, 3, 783564, tzinfo=tzutc()), url='https://paytm.com:443/papi/v1/promosearch/product/12768665/offers?parent_id=12768667')),\n",
       "  ('1.186.145.145',\n",
       "   Row(timestamp=datetime.datetime(2015, 7, 22, 16, 22, 44, 203293, tzinfo=tzutc()), url='https://paytm.com:443/papi/v1/promosearch/product/8888838/offers?parent_id=8888247'))],\n",
       " [('1.186.146.89',\n",
       "   Row(timestamp=datetime.datetime(2015, 7, 22, 10, 46, 11, 932533, tzinfo=tzutc()), url='https://paytm.com:443/')),\n",
       "  ('1.186.146.89',\n",
       "   Row(timestamp=datetime.datetime(2015, 7, 22, 10, 46, 20, 491368, tzinfo=tzutc()), url='https://paytm.com:443/shop/cart?channel=web&version=2')),\n",
       "  ('1.186.146.89',\n",
       "   Row(timestamp=datetime.datetime(2015, 7, 22, 10, 46, 39, 537872, tzinfo=tzutc()), url='https://paytm.com:443/favicon.ico')),\n",
       "  ('1.186.146.89',\n",
       "   Row(timestamp=datetime.datetime(2015, 7, 22, 10, 47, 6, 187366, tzinfo=tzutc()), url='https://paytm.com:443/papi/v1/expresscart/verify')),\n",
       "  ('1.186.146.89',\n",
       "   Row(timestamp=datetime.datetime(2015, 7, 22, 10, 47, 14, 161440, tzinfo=tzutc()), url='https://paytm.com:443/papi/v1/expresscart/verify')),\n",
       "  ('1.186.146.89',\n",
       "   Row(timestamp=datetime.datetime(2015, 7, 22, 10, 47, 19, 270670, tzinfo=tzutc()), url='https://paytm.com:443/shop/login?isIframe=true&theme=mp-web')),\n",
       "  ('1.186.146.89',\n",
       "   Row(timestamp=datetime.datetime(2015, 7, 22, 10, 48, 4, 472581, tzinfo=tzutc()), url='https://paytm.com:443/shop/authresponse?code=1b2ef409-5386-4622-8995-d204d657285d&state=null')),\n",
       "  ('1.186.146.89',\n",
       "   Row(timestamp=datetime.datetime(2015, 7, 22, 10, 48, 4, 946869, tzinfo=tzutc()), url='https://paytm.com:443/shop/v1/frequentorders?channel=web&version=2')),\n",
       "  ('1.186.146.89',\n",
       "   Row(timestamp=datetime.datetime(2015, 7, 22, 10, 48, 5, 83995, tzinfo=tzutc()), url='https://paytm.com:443/shop/cart?channel=web&version=2')),\n",
       "  ('1.186.146.89',\n",
       "   Row(timestamp=datetime.datetime(2015, 7, 22, 10, 48, 5, 109808, tzinfo=tzutc()), url='https://paytm.com:443/api/v1/expresscart/checkout?wallet=1'))],\n",
       " [('1.186.224.136',\n",
       "   Row(timestamp=datetime.datetime(2015, 7, 22, 18, 3, 18, 879736, tzinfo=tzutc()), url='https://paytm.com:443/')),\n",
       "  ('1.186.224.136',\n",
       "   Row(timestamp=datetime.datetime(2015, 7, 22, 18, 3, 29, 200464, tzinfo=tzutc()), url='https://paytm.com:443/shop/v1/frequentorders?channel=web&version=2')),\n",
       "  ('1.186.224.136',\n",
       "   Row(timestamp=datetime.datetime(2015, 7, 22, 18, 3, 29, 999450, tzinfo=tzutc()), url='https://paytm.com:443/shop/cart?channel=web&version=2')),\n",
       "  ('1.186.224.136',\n",
       "   Row(timestamp=datetime.datetime(2015, 7, 22, 18, 3, 42, 521203, tzinfo=tzutc()), url='https://paytm.com:443/shop/wallet/txnhistory?page_size=10&page_number=0&channel=web&version=2')),\n",
       "  ('1.186.224.136',\n",
       "   Row(timestamp=datetime.datetime(2015, 7, 22, 18, 3, 42, 521880, tzinfo=tzutc()), url='https://paytm.com:443/shop/wallet/balance?channel=web&version=2')),\n",
       "  ('1.186.224.136',\n",
       "   Row(timestamp=datetime.datetime(2015, 7, 22, 18, 3, 47, 579770, tzinfo=tzutc()), url='https://paytm.com:443/shop/orderhistory?pagesize=10&channel=web&version=2')),\n",
       "  ('1.186.224.136',\n",
       "   Row(timestamp=datetime.datetime(2015, 7, 22, 18, 3, 50, 507284, tzinfo=tzutc()), url='https://paytm.com:443/favicon.ico')),\n",
       "  ('1.186.224.136',\n",
       "   Row(timestamp=datetime.datetime(2015, 7, 22, 18, 4, 17, 764706, tzinfo=tzutc()), url='https://paytm.com:443/shop/orderdetail/1112101495?actions=1&channel=web&version=2')),\n",
       "  ('1.186.224.136',\n",
       "   Row(timestamp=datetime.datetime(2015, 7, 22, 18, 4, 18, 684346, tzinfo=tzutc()), url='https://paytm.com:443/papi/nps/merchantverification')),\n",
       "  ('1.186.224.136',\n",
       "   Row(timestamp=datetime.datetime(2015, 7, 22, 18, 4, 21, 894715, tzinfo=tzutc()), url='https://paytm.com:443/shop/action')),\n",
       "  ('1.186.224.136',\n",
       "   Row(timestamp=datetime.datetime(2015, 7, 22, 18, 4, 24, 28877, tzinfo=tzutc()), url='https://paytm.com:443/shop/orderdetail/1112101495?actions=1&channel=web&version=2')),\n",
       "  ('1.186.224.136',\n",
       "   Row(timestamp=datetime.datetime(2015, 7, 22, 18, 4, 24, 796780, tzinfo=tzutc()), url='https://paytm.com:443/papi/nps/merchantverification')),\n",
       "  ('1.186.224.136',\n",
       "   Row(timestamp=datetime.datetime(2015, 7, 22, 18, 4, 31, 213838, tzinfo=tzutc()), url='https://paytm.com:443/shop/orderhistory?pagesize=10&channel=web&version=2'))],\n",
       " [('1.186.37.26',\n",
       "   Row(timestamp=datetime.datetime(2015, 7, 22, 16, 42, 55, 956353, tzinfo=tzutc()), url='https://paytm.com:443/shop/p/mi-10400-mah-power-bank-silver-CMPLXMI_NDY02ADS_10400MAH_SILVER')),\n",
       "  ('1.186.37.26',\n",
       "   Row(timestamp=datetime.datetime(2015, 7, 22, 16, 42, 59, 197308, tzinfo=tzutc()), url='https://paytm.com:443/shop/cart?channel=web&version=2')),\n",
       "  ('1.186.37.26',\n",
       "   Row(timestamp=datetime.datetime(2015, 7, 22, 16, 43, 0, 954406, tzinfo=tzutc()), url='https://paytm.com:443/shop/log'))],\n",
       " [('1.186.37.49',\n",
       "   Row(timestamp=datetime.datetime(2015, 7, 22, 9, 3, 0, 882663, tzinfo=tzutc()), url='https://paytm.com:443/shop/p/arisha-red-net-semi-stitched-suit-APPARISHA-RED-NSAIA22487CC705DF0')),\n",
       "  ('1.186.37.49',\n",
       "   Row(timestamp=datetime.datetime(2015, 7, 22, 9, 3, 2, 844341, tzinfo=tzutc()), url='https://paytm.com:443/shop/cart?channel=web&version=2')),\n",
       "  ('1.186.37.49',\n",
       "   Row(timestamp=datetime.datetime(2015, 7, 22, 9, 3, 3, 697139, tzinfo=tzutc()), url='https://paytm.com:443/papi/nps/merchantrating?merchant_id=22487&channel=web&version=2')),\n",
       "  ('1.186.37.49',\n",
       "   Row(timestamp=datetime.datetime(2015, 7, 22, 9, 3, 3, 771269, tzinfo=tzutc()), url='https://paytm.com:443/papi/v1/promosearch/product/8733241/offers?parent_id=0&price=4950&channel=web&version=2')),\n",
       "  ('1.186.37.49',\n",
       "   Row(timestamp=datetime.datetime(2015, 7, 22, 9, 3, 3, 825956, tzinfo=tzutc()), url='https://paytm.com:443/papi/rr/products/8733241/statistics?channel=web&version=2')),\n",
       "  ('1.186.37.49',\n",
       "   Row(timestamp=datetime.datetime(2015, 7, 22, 9, 3, 9, 113520, tzinfo=tzutc()), url='https://paytm.com:443/shop/p/undefined')),\n",
       "  ('1.186.37.49',\n",
       "   Row(timestamp=datetime.datetime(2015, 7, 22, 9, 3, 12, 767921, tzinfo=tzutc()), url='https://paytm.com:443/shop/p/undefined'))],\n",
       " [('1.186.41.2',\n",
       "   Row(timestamp=datetime.datetime(2015, 7, 22, 16, 22, 54, 823774, tzinfo=tzutc()), url='https://paytm.com:443/')),\n",
       "  ('1.186.41.2',\n",
       "   Row(timestamp=datetime.datetime(2015, 7, 22, 16, 24, 35, 237364, tzinfo=tzutc()), url='https://paytm.com:443/')),\n",
       "  ('1.186.41.2',\n",
       "   Row(timestamp=datetime.datetime(2015, 7, 22, 16, 24, 43, 139429, tzinfo=tzutc()), url='https://paytm.com:443/shop/cart?channel=web&version=2')),\n",
       "  ('1.186.41.2',\n",
       "   Row(timestamp=datetime.datetime(2015, 7, 22, 16, 24, 44, 260251, tzinfo=tzutc()), url='https://paytm.com:443/shop/log')),\n",
       "  ('1.186.41.2',\n",
       "   Row(timestamp=datetime.datetime(2015, 7, 22, 16, 24, 44, 301092, tzinfo=tzutc()), url='https://paytm.com:443/shop/log')),\n",
       "  ('1.186.41.2',\n",
       "   Row(timestamp=datetime.datetime(2015, 7, 22, 16, 24, 44, 512332, tzinfo=tzutc()), url='https://paytm.com:443/shop/log')),\n",
       "  ('1.186.41.2',\n",
       "   Row(timestamp=datetime.datetime(2015, 7, 22, 16, 24, 46, 841102, tzinfo=tzutc()), url='https://paytm.com:443/favicon.ico')),\n",
       "  ('1.186.41.2',\n",
       "   Row(timestamp=datetime.datetime(2015, 7, 22, 17, 43, 48, 603862, tzinfo=tzutc()), url='https://paytm.com:443/shop/p/woodland-brown-casual-shoes-size-6-FOOWOODLAND-BROIDEN35091A185285E')),\n",
       "  ('1.186.41.2',\n",
       "   Row(timestamp=datetime.datetime(2015, 7, 22, 17, 43, 51, 114755, tzinfo=tzutc()), url='https://paytm.com:443/shop/cart?channel=web&version=2')),\n",
       "  ('1.186.41.2',\n",
       "   Row(timestamp=datetime.datetime(2015, 7, 22, 17, 43, 52, 641421, tzinfo=tzutc()), url='https://paytm.com:443/papi/nps/merchantrating?merchant_id=35091&channel=web&version=2')),\n",
       "  ('1.186.41.2',\n",
       "   Row(timestamp=datetime.datetime(2015, 7, 22, 17, 43, 52, 641488, tzinfo=tzutc()), url='https://paytm.com:443/papi/v1/promosearch/product/12910123/offers?parent_id=12910287&price=3395&channel=web&version=2')),\n",
       "  ('1.186.41.2',\n",
       "   Row(timestamp=datetime.datetime(2015, 7, 22, 17, 43, 52, 884641, tzinfo=tzutc()), url='https://paytm.com:443/papi/rr/products/12910123/statistics?channel=web&version=2')),\n",
       "  ('1.186.41.2',\n",
       "   Row(timestamp=datetime.datetime(2015, 7, 22, 17, 44, 3, 143949, tzinfo=tzutc()), url='https://paytm.com:443/shop/p/woodland-camel-casual-shoes-size-6-FOOWOODLAND-CAMJAI-481039233FD42')),\n",
       "  ('1.186.41.2',\n",
       "   Row(timestamp=datetime.datetime(2015, 7, 22, 17, 44, 14, 273188, tzinfo=tzutc()), url='https://paytm.com:443/shop/cart?channel=web&version=2')),\n",
       "  ('1.186.41.2',\n",
       "   Row(timestamp=datetime.datetime(2015, 7, 22, 17, 44, 14, 694165, tzinfo=tzutc()), url='https://paytm.com:443/papi/nps/merchantrating?merchant_id=48103&channel=web&version=2')),\n",
       "  ('1.186.41.2',\n",
       "   Row(timestamp=datetime.datetime(2015, 7, 22, 17, 44, 14, 694230, tzinfo=tzutc()), url='https://paytm.com:443/papi/v1/promosearch/product/10816110/offers?parent_id=10816529&price=3695&channel=web&version=2')),\n",
       "  ('1.186.41.2',\n",
       "   Row(timestamp=datetime.datetime(2015, 7, 22, 17, 44, 14, 849909, tzinfo=tzutc()), url='https://paytm.com:443/papi/rr/products/10816110/statistics?channel=web&version=2'))],\n",
       " [('1.186.44.42',\n",
       "   Row(timestamp=datetime.datetime(2015, 7, 22, 2, 40, 59, 53485, tzinfo=tzutc()), url='https://www.paytm.com:443/'))]]"
      ]
     },
     "execution_count": 5,
     "metadata": {},
     "output_type": "execute_result"
    }
   ],
   "source": [
    "grouped.take(10)"
   ]
  },
  {
   "cell_type": "code",
   "execution_count": 10,
   "metadata": {},
   "outputs": [],
   "source": [
    "class Session:\n",
    "    def __init__(self, IP, sessionNumUrls,sessionLengthInMinutes):\n",
    "        self.IP = IP\n",
    "        self.sessionNumUrls = sessionNumUrls\n",
    "        self.sessionLengthInMinutes = sessionLengthInMinutes"
   ]
  },
  {
   "cell_type": "code",
   "execution_count": 49,
   "metadata": {},
   "outputs": [],
   "source": [
    "import datetime\n",
    "\n",
    "def Sessionize(x):\n",
    "    size = len(x)\n",
    "    sessionUrls = [set([x[0][1].url])]\n",
    "    sessions = [[x[0][1].timestamp]]\n",
    "    sessionLengthInMinutes = []\n",
    "    sessionNumUrls = []\n",
    "    \n",
    "    for i in range(1,size,1):\n",
    "        if (x[i][1].timestamp - sessions[-1][-1]).total_seconds()/60 <= 15:\n",
    "            sessions[-1].append(x[i][1].timestamp)\n",
    "            sessionUrls[-1].add(x[i][1].url)\n",
    "        else:\n",
    "            sessions.append([x[i][1].timestamp]) #start a new session\n",
    "            sessionUrls.append(set([x[i][1].url]))\n",
    "\n",
    "    for session in sessions:\n",
    "        sessionLengthInMinutes.append((session[-1]-session[0]).total_seconds()/60)\n",
    "    \n",
    "    for sessionUrl in sessionUrls:\n",
    "        sessionNumUrls.append(len(sessionUrl))\n",
    "    \n",
    "    return Session(x[0][0], sessionNumUrls, sessionLengthInMinutes)"
   ]
  },
  {
   "cell_type": "code",
   "execution_count": 50,
   "metadata": {},
   "outputs": [],
   "source": [
    "grouped_sessionized = grouped.map(lambda x:Sessionize(x))"
   ]
  },
  {
   "cell_type": "code",
   "execution_count": 52,
   "metadata": {
    "scrolled": false
   },
   "outputs": [
    {
     "data": {
      "text/plain": [
       "[('220.226.206.7',\n",
       "  [7, 5, 25, 13, 42, 15, 61, 105, 50, 92, 284, 30, 163],\n",
       "  [3.0329445333333336,\n",
       "   3.0448327333333336,\n",
       "   4.056144683333334,\n",
       "   4.024646466666667,\n",
       "   34.0800585,\n",
       "   4.8486105833333335,\n",
       "   4.8596510833333335,\n",
       "   4.173275283333333,\n",
       "   13.028803033333332,\n",
       "   4.2956905,\n",
       "   25.08101915,\n",
       "   4.992088083333333,\n",
       "   3.7483676833333335]),\n",
       " ('119.81.61.166',\n",
       "  [3334, 1100, 1671, 489, 1739, 8016, 2786, 3928, 3637, 2841],\n",
       "  [4.950189583333333,\n",
       "   4.9740852166666665,\n",
       "   4.986045,\n",
       "   4.2217356,\n",
       "   34.4808075,\n",
       "   14.613619533333333,\n",
       "   4.337334383333333,\n",
       "   4.9999253333333336,\n",
       "   4.986084966666667,\n",
       "   4.993532816666667]),\n",
       " ('54.250.253.236',\n",
       "  [1, 1, 1, 1, 1, 1, 1, 1, 1, 1],\n",
       "  [4.07740025,\n",
       "   1.5254125,\n",
       "   4.57557975,\n",
       "   3.0549327,\n",
       "   33.58166476666666,\n",
       "   12.720924966666667,\n",
       "   4.073001533333334,\n",
       "   3.0533205,\n",
       "   3.5601389833333332,\n",
       "   2.5412049666666667]),\n",
       " ('54.251.151.39',\n",
       "  [3, 3, 3, 4, 7, 3, 3, 4, 3, 2],\n",
       "  [4.946743883333334,\n",
       "   4.976086116666666,\n",
       "   4.996719733333333,\n",
       "   4.213974966666666,\n",
       "   34.45038280000001,\n",
       "   14.581265116666666,\n",
       "   4.317303016666667,\n",
       "   4.9391726333333335,\n",
       "   4.982523366666666,\n",
       "   4.875647783333333]),\n",
       " ('54.255.254.236',\n",
       "  [1, 1, 1, 1, 1, 1, 1, 1, 1, 1],\n",
       "  [0.5013352666666667,\n",
       "   3.514268266666667,\n",
       "   1.5087983166666668,\n",
       "   3.514465866666667,\n",
       "   31.63171875,\n",
       "   12.5473857,\n",
       "   1.0049996333333333,\n",
       "   4.520471850000001,\n",
       "   4.5163916833333335,\n",
       "   3.0130013666666664])]"
      ]
     },
     "execution_count": 52,
     "metadata": {},
     "output_type": "execute_result"
    }
   ],
   "source": [
    "grouped_sessionized.map(lambda x:(x.IP, x.sessionNumUrls, x.sessionLengthInMinutes)).sortBy(lambda x:len(x[2]),ascending=False).take(5)"
   ]
  },
  {
   "cell_type": "code",
   "execution_count": 53,
   "metadata": {},
   "outputs": [
    {
     "data": {
      "text/plain": [
       "[('103.29.159.138', 34.42355186666667),\n",
       " ('125.16.218.194', 34.407923399999994),\n",
       " ('14.99.226.79', 34.381827933333334),\n",
       " ('122.169.141.4', 34.3359822),\n",
       " ('14.139.220.98', 34.305317716666664)]"
      ]
     },
     "execution_count": 53,
     "metadata": {},
     "output_type": "execute_result"
    }
   ],
   "source": [
    "import numpy as np\n",
    "grouped_sessionized.map(lambda x:(x.IP,np.mean(x.sessionLengthInMinutes))).sortBy(lambda x:x[1], ascending=False).take(5)"
   ]
  },
  {
   "cell_type": "code",
   "execution_count": null,
   "metadata": {},
   "outputs": [],
   "source": []
  }
 ],
 "metadata": {
  "kernelspec": {
   "display_name": "Python 3",
   "language": "python",
   "name": "python3"
  },
  "language_info": {
   "codemirror_mode": {
    "name": "ipython",
    "version": 3
   },
   "file_extension": ".py",
   "mimetype": "text/x-python",
   "name": "python",
   "nbconvert_exporter": "python",
   "pygments_lexer": "ipython3",
   "version": "3.7.0"
  }
 },
 "nbformat": 4,
 "nbformat_minor": 2
}
