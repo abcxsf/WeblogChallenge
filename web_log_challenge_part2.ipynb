{
 "cells": [
  {
   "cell_type": "code",
   "execution_count": 3,
   "metadata": {},
   "outputs": [],
   "source": [
    "rdd = sc.textFile('2015_07_22_mktplace_shop_web_log_sample.log')\n",
    "rdd = rdd.map(lambda line: line.split(\" \"))\n",
    "\n",
    "from pyspark.sql import Row\n",
    "from pyspark.sql.types import *\n",
    "from pyspark.sql.functions import *\n",
    "\n",
    "rdd = rdd.map(lambda line: Row(timestamp=line[0], ipaddress=line[2].split(':')[0],url=line[12]))\n"
   ]
  },
  {
   "cell_type": "code",
   "execution_count": 4,
   "metadata": {},
   "outputs": [],
   "source": [
    "mainDF = rdd.toDF()"
   ]
  },
  {
   "cell_type": "code",
   "execution_count": 5,
   "metadata": {
    "scrolled": true
   },
   "outputs": [
    {
     "name": "stdout",
     "output_type": "stream",
     "text": [
      "+---------------+--------------------+--------------------+\n",
      "|      ipaddress|           timestamp|                 url|\n",
      "+---------------+--------------------+--------------------+\n",
      "|123.242.248.130|2015-07-22T09:00:...|https://paytm.com...|\n",
      "|  203.91.211.44|2015-07-22T09:00:...|https://paytm.com...|\n",
      "|    1.39.32.179|2015-07-22T09:00:...|https://paytm.com...|\n",
      "| 180.179.213.94|2015-07-22T09:00:...|https://paytm.com...|\n",
      "| 120.59.192.208|2015-07-22T09:00:...|https://paytm.com...|\n",
      "| 117.239.195.66|2015-07-22T09:00:...|https://paytm.com...|\n",
      "|  101.60.186.26|2015-07-22T09:00:...|https://paytm.com...|\n",
      "|   59.183.41.47|2015-07-22T09:00:...|https://paytm.com...|\n",
      "| 117.239.195.66|2015-07-22T09:00:...|https://paytm.com...|\n",
      "|  183.83.237.83|2015-07-22T09:00:...|https://paytm.com...|\n",
      "|  117.195.91.36|2015-07-22T09:00:...|https://paytm.com...|\n",
      "|122.180.245.251|2015-07-22T09:00:...|https://paytm.com...|\n",
      "| 117.198.215.20|2015-07-22T09:00:...|https://paytm.com...|\n",
      "| 223.176.154.91|2015-07-22T09:00:...|https://paytm.com...|\n",
      "|223.225.236.110|2015-07-22T09:00:...|https://paytm.com...|\n",
      "| 117.241.97.140|2015-07-22T09:00:...|https://paytm.com...|\n",
      "|117.205.247.140|2015-07-22T09:00:...|https://paytm.com...|\n",
      "|   14.102.53.58|2015-07-22T09:00:...|https://paytm.com...|\n",
      "|  203.200.99.67|2015-07-22T09:00:...|https://paytm.com...|\n",
      "|107.167.109.204|2015-07-22T09:00:...|https://paytm.com...|\n",
      "|  182.66.58.248|2015-07-22T09:00:...|https://paytm.com...|\n",
      "|  122.248.183.1|2015-07-22T09:00:...|https://paytm.com...|\n",
      "|110.172.137.145|2015-07-22T09:00:...|https://paytm.com...|\n",
      "|  123.63.32.194|2015-07-22T09:00:...|https://paytm.com...|\n",
      "|203.187.253.100|2015-07-22T09:00:...|https://paytm.com...|\n",
      "| 113.19.192.166|2015-07-22T09:00:...|https://paytm.com...|\n",
      "|  14.139.243.18|2015-07-22T09:00:...|https://paytm.com...|\n",
      "|106.216.149.189|2015-07-22T09:00:...|https://paytm.com...|\n",
      "| 115.113.117.48|2015-07-22T09:00:...|https://paytm.com...|\n",
      "|   49.15.87.240|2015-07-22T09:00:...|https://paytm.com...|\n",
      "| 120.56.144.188|2015-07-22T09:00:...|https://paytm.com...|\n",
      "| 194.237.142.21|2015-07-22T09:00:...|https://paytm.com...|\n",
      "|  202.153.39.51|2015-07-22T09:00:...|https://paytm.com...|\n",
      "|  202.153.39.51|2015-07-22T09:00:...|https://paytm.com...|\n",
      "|  203.91.211.44|2015-07-22T09:00:...|https://paytm.com...|\n",
      "|   59.89.107.50|2015-07-22T09:00:...|https://paytm.com...|\n",
      "| 117.218.218.10|2015-07-22T09:00:...|https://paytm.com...|\n",
      "| 14.139.230.108|2015-07-22T09:00:...|https://paytm.com...|\n",
      "|  196.15.16.101|2015-07-22T09:00:...|https://paytm.com...|\n",
      "|107.167.108.197|2015-07-22T09:00:...|https://paytm.com...|\n",
      "| 106.208.84.178|2015-07-22T09:00:...|https://paytm.com...|\n",
      "|106.220.161.208|2015-07-22T09:00:...|https://paytm.com...|\n",
      "|     61.2.83.11|2015-07-22T09:00:...|https://paytm.com...|\n",
      "| 117.250.34.254|2015-07-22T09:00:...|https://paytm.com...|\n",
      "| 106.203.124.26|2015-07-22T09:00:...|https://paytm.com...|\n",
      "|  176.205.30.47|2015-07-22T09:00:...|https://paytm.com...|\n",
      "|122.169.170.254|2015-07-22T09:00:...|https://paytm.com...|\n",
      "|122.169.170.254|2015-07-22T09:00:...|https://paytm.com...|\n",
      "|107.167.108.197|2015-07-22T09:00:...|https://paytm.com...|\n",
      "| 198.208.209.36|2015-07-22T09:00:...|https://paytm.com...|\n",
      "+---------------+--------------------+--------------------+\n",
      "only showing top 50 rows\n",
      "\n"
     ]
    }
   ],
   "source": [
    "mainDF.show(50)"
   ]
  },
  {
   "cell_type": "code",
   "execution_count": 6,
   "metadata": {
    "collapsed": true
   },
   "outputs": [],
   "source": [
    "mainDF = mainDF.withColumn('timestamp', mainDF['timestamp'].cast(TimestampType()))"
   ]
  },
  {
   "cell_type": "code",
   "execution_count": 7,
   "metadata": {},
   "outputs": [],
   "source": [
    "loadperMinDF = mainDF.select(window(\"timestamp\", \"60 seconds\").alias('timewindow'),'timestamp',\"ipaddress\").groupBy('timewindow').count().withColumnRenamed('count', 'HitperMin')"
   ]
  },
  {
   "cell_type": "code",
   "execution_count": 8,
   "metadata": {},
   "outputs": [],
   "source": [
    "loadperMinPandasDf = loadperMinDF.sort(\"timewindow.start\").toPandas()"
   ]
  },
  {
   "cell_type": "code",
   "execution_count": 23,
   "metadata": {},
   "outputs": [],
   "source": [
    "start = [s[0] for s in loadperMinPandasDf['timewindow']]"
   ]
  },
  {
   "cell_type": "code",
   "execution_count": 31,
   "metadata": {},
   "outputs": [
    {
     "data": {
      "image/png": "[encoded data removed]",
      "text/plain": [
       "<matplotlib.figure.Figure at 0xab52f60>"
      ]
     },
     "metadata": {},
     "output_type": "display_data"
    }
   ],
   "source": [
    "import matplotlib.pyplot as plt \n",
    "plt.plot(start, loadperMinPandasDf['HitperMin'])\n",
    "plt.xticks(rotation='vertical')\n",
    "plt.gcf().autofmt_xdate()\n",
    "plt.show()\n"
   ]
  },
  {
   "cell_type": "code",
   "execution_count": null,
   "metadata": {
    "collapsed": true
   },
   "outputs": [],
   "source": []
  }
 ],
 "metadata": {
  "kernelspec": {
   "display_name": "Python 3",
   "language": "python",
   "name": "python3"
  },
  "language_info": {
   "codemirror_mode": {
    "name": "ipython",
    "version": 3
   },
   "file_extension": ".py",
   "mimetype": "text/x-python",
   "name": "python",
   "nbconvert_exporter": "python",
   "pygments_lexer": "ipython3",
   "version": "3.5.3"
  }
 },
 "nbformat": 4,
 "nbformat_minor": 2
}
